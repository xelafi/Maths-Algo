{
 "cells": [
  {
   "cell_type": "markdown",
   "metadata": {},
   "source": [
    "# 1 Bases"
   ]
  },
  {
   "cell_type": "markdown",
   "metadata": {},
   "source": [
    "### 1.1 Simple échange"
   ]
  },
  {
   "cell_type": "code",
   "execution_count": 11,
   "metadata": {
    "scrolled": true
   },
   "outputs": [
    {
     "name": "stdout",
     "output_type": "stream",
     "text": [
      "La valeur de a est :  15\n",
      "La valeur de b est :  10\n"
     ]
    }
   ],
   "source": [
    "a = 10\n",
    "b = 15\n",
    "c = 0  \n",
    "\n",
    "c = a\n",
    "a = b \n",
    "b = c \n",
    "\n",
    "print(\"La valeur de a est : \", a) \n",
    "print(\"La valeur de b est : \", b)"
   ]
  },
  {
   "cell_type": "markdown",
   "metadata": {},
   "source": [
    "### 1.2 Le carré"
   ]
  },
  {
   "cell_type": "code",
   "execution_count": 17,
   "metadata": {},
   "outputs": [
    {
     "name": "stdout",
     "output_type": "stream",
     "text": [
      "Entrer un nombre :5\n",
      "Le carré de  5 est  25\n"
     ]
    }
   ],
   "source": [
    "a = int(input(\"Entrer un nombre :\"))\n",
    "x = a*a\n",
    "print(\"Le carré de \",a ,\"est \", x)"
   ]
  },
  {
   "cell_type": "markdown",
   "metadata": {},
   "source": [
    "### 1.3 La condition"
   ]
  },
  {
   "cell_type": "code",
   "execution_count": 21,
   "metadata": {},
   "outputs": [
    {
     "name": "stdout",
     "output_type": "stream",
     "text": [
      "Entrer un nombre :0\n",
      "100% ta mis zero ca marche pas !\n"
     ]
    }
   ],
   "source": [
    "a = int(input(\"Entrer un nombre :\"))\n",
    "\n",
    "if a < 0 :\n",
    "    print(\"Le nombre est négatif\")\n",
    "elif a > 0 :\n",
    "    print (\"Le nombre est positif\")\n",
    "else :\n",
    "    print(\"100% ta mis zero ca marche pas !\")"
   ]
  },
  {
   "cell_type": "markdown",
   "metadata": {},
   "source": [
    "### 1.4 Le produit"
   ]
  },
  {
   "cell_type": "code",
   "execution_count": 24,
   "metadata": {},
   "outputs": [
    {
     "name": "stdout",
     "output_type": "stream",
     "text": [
      "Entrer un nombre :-7\n",
      "Entrer un deuxieme nombre :-4\n",
      "Le produit est positif\n"
     ]
    }
   ],
   "source": [
    "a = int(input(\"Entrer un nombre :\"))\n",
    "b = int(input(\"Entrer un deuxieme nombre :\"))\n",
    "\n",
    "if a < 0 and b < 0 :\n",
    "    print(\"Le produit est positif\")\n",
    "elif a < 0 or b < 0 : \n",
    "    print(\"Le produit est négatif\")\n",
    "else :\n",
    "    print(\"Le produit est positif\")"
   ]
  },
  {
   "cell_type": "markdown",
   "metadata": {},
   "source": [
    "### 1.5 Calcul"
   ]
  },
  {
   "cell_type": "code",
   "execution_count": 27,
   "metadata": {},
   "outputs": [
    {
     "name": "stdout",
     "output_type": "stream",
     "text": [
      "Entrer un nombre :17\n",
      "18\n",
      "19\n",
      "20\n",
      "21\n",
      "22\n",
      "23\n",
      "24\n",
      "25\n",
      "26\n",
      "27\n"
     ]
    }
   ],
   "source": [
    "a = int(input(\"Entrer un nombre :\"))\n",
    "for i in range(a, a+10) :\n",
    "    a += 1\n",
    "    print(a)"
   ]
  },
  {
   "cell_type": "markdown",
   "metadata": {},
   "source": [
    "### 1.6 Additivté"
   ]
  },
  {
   "cell_type": "code",
   "execution_count": 59,
   "metadata": {},
   "outputs": [
    {
     "name": "stdout",
     "output_type": "stream",
     "text": [
      "Entrer un nombre :5\n",
      "15\n"
     ]
    }
   ],
   "source": [
    "a = int(input(\"Entrer un nombre :\"))\n",
    "b = 0\n",
    "for i in range(0, a) : \n",
    "    b = b + a\n",
    "    a -= 1\n",
    "print(b)"
   ]
  },
  {
   "cell_type": "markdown",
   "metadata": {},
   "source": [
    "# 2 Les tableaux"
   ]
  },
  {
   "cell_type": "markdown",
   "metadata": {},
   "source": [
    "### 2.1 La somme"
   ]
  },
  {
   "cell_type": "code",
   "execution_count": 69,
   "metadata": {},
   "outputs": [
    {
     "name": "stdout",
     "output_type": "stream",
     "text": [
      "15\n"
     ]
    }
   ],
   "source": [
    "a = [1, 2, 3, 4, 5]\n",
    "b = 0\n",
    "for i in range(0,len(a)) : \n",
    "    b = b + a[i]\n",
    "print(b)"
   ]
  },
  {
   "cell_type": "markdown",
   "metadata": {},
   "source": [
    "### 2.2 La somme : retour"
   ]
  },
  {
   "cell_type": "code",
   "execution_count": 71,
   "metadata": {},
   "outputs": [
    {
     "data": {
      "text/plain": [
       "[6, 6, 6, 6, 6]"
      ]
     },
     "execution_count": 71,
     "metadata": {},
     "output_type": "execute_result"
    }
   ],
   "source": [
    "a = [1, 2, 3, 4, 5]\n",
    "b = [5, 4, 3, 2, 1]\n",
    "FinalTab = []\n",
    "for i in range(0,len(a)) : \n",
    "    c = a[i] + b[i]\n",
    "    FinalTab.append(c)\n",
    "FinalTab"
   ]
  },
  {
   "cell_type": "markdown",
   "metadata": {},
   "source": [
    "### 2.3 FacProduct"
   ]
  },
  {
   "cell_type": "code",
   "execution_count": 74,
   "metadata": {},
   "outputs": [
    {
     "name": "stdout",
     "output_type": "stream",
     "text": [
      "[50, 80, 90, 80, 50]\n",
      "350\n"
     ]
    }
   ],
   "source": [
    "a = [10, 20, 30, 40, 50]\n",
    "b = [5, 4, 3, 2, 1]\n",
    "FinalTab = []\n",
    "for i in range(0,len(a)) : \n",
    "    c = a[i] * b[i]\n",
    "    FinalTab.append(c)\n",
    "print(FinalTab)\n",
    "\n",
    "z = 0\n",
    "for i in range(0,len(a)) : \n",
    "    z = z + FinalTab[i]\n",
    "print(z)"
   ]
  },
  {
   "cell_type": "markdown",
   "metadata": {},
   "source": [
    "### 2.4 Le plus grand"
   ]
  },
  {
   "cell_type": "code",
   "execution_count": 7,
   "metadata": {},
   "outputs": [
    {
     "data": {
      "text/plain": [
       "(8, 6)"
      ]
     },
     "execution_count": 7,
     "metadata": {},
     "output_type": "execute_result"
    }
   ],
   "source": [
    "items = [-1,2,5,3,8,4,1]\n",
    "for j in range(len(items)):\n",
    "    if j == 0:\n",
    "        res = items[j]\n",
    "    else:\n",
    "        if (items[j] > res):\n",
    "            res = items[j]\n",
    "item = j\n",
    "(res, item)"
   ]
  },
  {
   "cell_type": "markdown",
   "metadata": {},
   "source": [
    "### Target somme\n",
    "\n",
    "Écrivez une fonction qui prend dans un tableau non vide d'entiers distincts et un entier représentant une somme cible. Si deux nombres du tableau d'entrée correspondent à la somme cible, la fonction doit les renvoyer dans un tableau, dans n'importe quel ordre. Si deux nombres ne correspondent pas à la somme cible, la fonction doit renvoyer un tableau vide.\n",
    "\n",
    "Notez que la somme cible doit être obtenue en additionnant deux entiers différents dans le tableau; vous ne pouvez pas ajouter un seul entier à lui-même pour obtenir la somme cible."
   ]
  },
  {
   "cell_type": "code",
   "execution_count": 25,
   "metadata": {},
   "outputs": [
    {
     "data": {
      "text/plain": [
       "[11, -1]"
      ]
     },
     "execution_count": 25,
     "metadata": {},
     "output_type": "execute_result"
    }
   ],
   "source": [
    "tab = [3, 5, -4, 8, 11, 1, -1, 6] \n",
    "def targetSomme(tab,targetSomme):\n",
    "    for i in tab:\n",
    "        for j in tab: \n",
    "            if i + j == targetSomme and i !=j:\n",
    "                tabNumbers = [i,j]\n",
    "                return  tabNumbers\n",
    "            else:\n",
    "                tabNumbers = [\"Null\"]\n",
    "targetSomme(tab,10)"
   ]
  },
  {
   "cell_type": "markdown",
   "metadata": {},
   "source": [
    "### V2"
   ]
  },
  {
   "cell_type": "code",
   "execution_count": 46,
   "metadata": {},
   "outputs": [],
   "source": [
    "def target_somme(array, targetSum):\n",
    "    #sol2 -> O(n) time | O(1) space \n",
    "    nums={}\n",
    "    for num in array:\n",
    "        tmp = targetSum - num \n",
    "        if tmp in nums:\n",
    "            return [tmp,num]\n",
    "        else: \n",
    "            nums[num] = True\n",
    "        print(nums)\n",
    "    return []"
   ]
  },
  {
   "cell_type": "markdown",
   "metadata": {},
   "source": [
    "### La distance de Levenshtein\n",
    "Ecrivez une fonction qui prend en deux chaînes et retourne le nombre minimum d'opérations d'édition qui doivent être effectuées sur la première chaîne pour obtenir la deuxième chaîne.\n",
    "\n",
    "Il existe trois opérations d'édition: insertion d'un caractère, suppression d'un caractère et substitution d'un caractère par un autre.\n",
    "\n",
    "Elle est tres utilisé en bio informatique notamment pour l'analyse ADN."
   ]
  },
  {
   "cell_type": "code",
   "execution_count": 45,
   "metadata": {},
   "outputs": [
    {
     "name": "stdout",
     "output_type": "stream",
     "text": [
      "[0, 1, 2, 3, 4, 5]\n",
      "[1, 1, 2, 2, 3, 4]\n",
      "[2, 2, 2, 3, 2, 3]\n",
      "[3, 3, 2, 3, 3, 3]\n",
      "[4, 4, 3, 3, 4, 3]\n",
      "[5, 4, 4, 4, 4, 4]\n",
      "4\n"
     ]
    }
   ],
   "source": [
    "def iterative_levenshtein(s, t):\n",
    "    \"\"\" \n",
    "        iterative_levenshtein(s, t) -> ldist\n",
    "        ldist is the Levenshtein distance between the strings \n",
    "        s and t.\n",
    "        For all i and j, dist[i,j] will contain the Levenshtein \n",
    "        distance between the first i characters of s and the \n",
    "        first j characters of t\n",
    "    \"\"\"\n",
    "\n",
    "    rows = len(s)+1\n",
    "    cols = len(t)+1\n",
    "    dist = [[0 for x in range(cols)] for x in range(rows)]\n",
    "\n",
    "    # source prefixes can be transformed into empty strings \n",
    "    # by deletions:\n",
    "    for i in range(1, rows):\n",
    "        dist[i][0] = i\n",
    "\n",
    "    # target prefixes can be created from an empty source string\n",
    "    # by inserting the characters\n",
    "    for i in range(1, cols):\n",
    "        dist[0][i] = i\n",
    "        \n",
    "    for col in range(1, cols):\n",
    "        for row in range(1, rows):\n",
    "            if s[row-1] == t[col-1]:\n",
    "                cost = 0\n",
    "            else:\n",
    "                cost = 1\n",
    "            dist[row][col] = min(dist[row-1][col] + 1,      # deletion\n",
    "                                 dist[row][col-1] + 1,      # insertion\n",
    "                                 dist[row-1][col-1] + cost) # substitution\n",
    "\n",
    "    for r in range(rows):\n",
    "        print(dist[r])\n",
    "    \n",
    " \n",
    "    return dist[row][col]\n",
    "\n",
    "print(iterative_levenshtein(\"chien\", \"niche\"))"
   ]
  },
  {
   "cell_type": "code",
   "execution_count": null,
   "metadata": {},
   "outputs": [],
   "source": []
  }
 ],
 "metadata": {
  "kernelspec": {
   "display_name": "Python 3",
   "language": "python",
   "name": "python3"
  },
  "language_info": {
   "codemirror_mode": {
    "name": "ipython",
    "version": 3
   },
   "file_extension": ".py",
   "mimetype": "text/x-python",
   "name": "python",
   "nbconvert_exporter": "python",
   "pygments_lexer": "ipython3",
   "version": "3.8.5"
  }
 },
 "nbformat": 4,
 "nbformat_minor": 4
}
