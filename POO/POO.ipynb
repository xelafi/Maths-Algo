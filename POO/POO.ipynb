{
 "cells": [
  {
   "cell_type": "markdown",
   "metadata": {},
   "source": [
    "### Exercices de POO"
   ]
  },
  {
   "cell_type": "markdown",
   "metadata": {},
   "source": [
    "Le compte bancaire\n",
    "\n",
    "Écrire un programme python qui permet de définir une classe CompteBancaire(), qui permette d’instancier des objets tels que compte1, compte2, etc. Le constructeur de cette classe initialisera deux attributs d’instance nom et solde, avec les valeurs par défaut ’Dupont’ et 1000.\n"
   ]
  },
  {
   "cell_type": "code",
   "execution_count": 24,
   "metadata": {},
   "outputs": [
    {
     "name": "stdout",
     "output_type": "stream",
     "text": [
      "Le compte bancaire de  Duchmol  est de  950  €\n",
      "Le compte bancaire de  Dupont  est de  1025  €\n"
     ]
    }
   ],
   "source": [
    "class CompteBancaire :\n",
    "\n",
    "    def __init__(self, nom=\"Dupont\", solde=1000) :\n",
    "        self.nom = nom\n",
    "        self.solde = solde\n",
    "\n",
    "    def depot(self, value) :\n",
    "        self.solde = self.solde + value\n",
    "\n",
    "    def retrait(self, value) :\n",
    "        self.solde = self.solde - value\n",
    "\n",
    "    def affiche(self) :\n",
    "        print(\"Le compte bancaire de \", self.nom , \" est de \" , self.solde , \" euros\")\n",
    "\n",
    "compte1 = CompteBancaire(\"Duchmol\", 800)\n",
    "compte1.depot(350)\n",
    "compte1.retrait(200)\n",
    "compte1.affiche()\n",
    "\n",
    "compte2 = CompteBancaire()\n",
    "compte2.depot(25)\n",
    "compte2.affiche()"
   ]
  },
  {
   "cell_type": "markdown",
   "metadata": {},
   "source": [
    "EXO 2"
   ]
  },
  {
   "cell_type": "code",
   "execution_count": 54,
   "metadata": {},
   "outputs": [
    {
     "name": "stdout",
     "output_type": "stream",
     "text": [
      "P( 2.00 ,  3.00 )\n",
      "P( 1.00 ,  -5.00 )\n"
     ]
    }
   ],
   "source": [
    "class Point:\n",
    "    def __init__(self, x, y, z = None):\n",
    "        self.x = x\n",
    "        self.y = y\n",
    "        if z is None:\n",
    "            self.z = z\n",
    "        else : \n",
    "            self.z = None\n",
    "    \n",
    "    def ToString(self):\n",
    "        if self.z is not None:\n",
    "            print(\"P(\", \"{:.2f}\".format(self.x), ', ',\"{:.2f}\".format(self.y), ', ',\"{:.2f}\".format(self.z), \")\")\n",
    "        else:\n",
    "            print(\"P(\", \"{:.2f}\".format(self.x), ', ', \"{:.2f}\".format(self.y), \")\")\n",
    "            \n",
    "P1 = Point(2, 3)\n",
    "P1.ToString()\n",
    "\n",
    "P2 = Point(1, -5, 6)\n",
    "P2.ToString()"
   ]
  },
  {
   "cell_type": "code",
   "execution_count": null,
   "metadata": {},
   "outputs": [],
   "source": []
  },
  {
   "cell_type": "code",
   "execution_count": null,
   "metadata": {},
   "outputs": [],
   "source": []
  }
 ],
 "metadata": {
  "kernelspec": {
   "display_name": "Python 3",
   "language": "python",
   "name": "python3"
  },
  "language_info": {
   "codemirror_mode": {
    "name": "ipython",
    "version": 3
   },
   "file_extension": ".py",
   "mimetype": "text/x-python",
   "name": "python",
   "nbconvert_exporter": "python",
   "pygments_lexer": "ipython3",
   "version": "3.8.5"
  }
 },
 "nbformat": 4,
 "nbformat_minor": 4
}
