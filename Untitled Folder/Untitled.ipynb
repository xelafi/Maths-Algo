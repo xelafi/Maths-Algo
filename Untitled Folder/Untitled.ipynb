{
 "cells": [
  {
   "cell_type": "markdown",
   "metadata": {},
   "source": [
    "# 1 Bases"
   ]
  },
  {
   "cell_type": "markdown",
   "metadata": {},
   "source": [
    "### 1.1 Simple échange"
   ]
  },
  {
   "cell_type": "code",
   "execution_count": 11,
   "metadata": {
    "scrolled": true
   },
   "outputs": [
    {
     "name": "stdout",
     "output_type": "stream",
     "text": [
      "La valeur de a est :  15\n",
      "La valeur de b est :  10\n"
     ]
    }
   ],
   "source": [
    "a = 10\n",
    "b = 15\n",
    "c = 0  \n",
    "\n",
    "c = a\n",
    "a = b \n",
    "b = c \n",
    "\n",
    "print(\"La valeur de a est : \", a) \n",
    "print(\"La valeur de b est : \", b)"
   ]
  },
  {
   "cell_type": "markdown",
   "metadata": {},
   "source": [
    "### 1.2 Le carré"
   ]
  },
  {
   "cell_type": "code",
   "execution_count": 17,
   "metadata": {},
   "outputs": [
    {
     "name": "stdout",
     "output_type": "stream",
     "text": [
      "Entrer un nombre :5\n",
      "Le carré de  5 est  25\n"
     ]
    }
   ],
   "source": [
    "a = int(input(\"Entrer un nombre :\"))\n",
    "x = a*a\n",
    "print(\"Le carré de \",a ,\"est \", x)"
   ]
  },
  {
   "cell_type": "markdown",
   "metadata": {},
   "source": [
    "### 1.3 La condition"
   ]
  },
  {
   "cell_type": "code",
   "execution_count": 21,
   "metadata": {},
   "outputs": [
    {
     "name": "stdout",
     "output_type": "stream",
     "text": [
      "Entrer un nombre :0\n",
      "100% ta mis zero ca marche pas !\n"
     ]
    }
   ],
   "source": [
    "a = int(input(\"Entrer un nombre :\"))\n",
    "\n",
    "if a < 0 :\n",
    "    print(\"Le nombre est négatif\")\n",
    "elif a > 0 :\n",
    "    print (\"Le nombre est positif\")\n",
    "else :\n",
    "    print(\"100% ta mis zero ca marche pas !\")"
   ]
  },
  {
   "cell_type": "markdown",
   "metadata": {},
   "source": [
    "### 1.4 Le produit"
   ]
  },
  {
   "cell_type": "code",
   "execution_count": 24,
   "metadata": {},
   "outputs": [
    {
     "name": "stdout",
     "output_type": "stream",
     "text": [
      "Entrer un nombre :-7\n",
      "Entrer un deuxieme nombre :-4\n",
      "Le produit est positif\n"
     ]
    }
   ],
   "source": [
    "a = int(input(\"Entrer un nombre :\"))\n",
    "b = int(input(\"Entrer un deuxieme nombre :\"))\n",
    "\n",
    "if a < 0 and b < 0 :\n",
    "    print(\"Le produit est positif\")\n",
    "elif a < 0 or b < 0 : \n",
    "    print(\"Le produit est négatif\")\n",
    "else :\n",
    "    print(\"Le produit est positif\")"
   ]
  },
  {
   "cell_type": "markdown",
   "metadata": {},
   "source": [
    "### 1.5 Calcul"
   ]
  },
  {
   "cell_type": "code",
   "execution_count": 27,
   "metadata": {},
   "outputs": [
    {
     "name": "stdout",
     "output_type": "stream",
     "text": [
      "Entrer un nombre :17\n",
      "18\n",
      "19\n",
      "20\n",
      "21\n",
      "22\n",
      "23\n",
      "24\n",
      "25\n",
      "26\n",
      "27\n"
     ]
    }
   ],
   "source": [
    "a = int(input(\"Entrer un nombre :\"))\n",
    "for i in range(a, a+10) :\n",
    "    a += 1\n",
    "    print(a)"
   ]
  },
  {
   "cell_type": "markdown",
   "metadata": {},
   "source": [
    "### 1.6 Additivté"
   ]
  },
  {
   "cell_type": "code",
   "execution_count": 59,
   "metadata": {},
   "outputs": [
    {
     "name": "stdout",
     "output_type": "stream",
     "text": [
      "Entrer un nombre :5\n",
      "15\n"
     ]
    }
   ],
   "source": [
    "a = int(input(\"Entrer un nombre :\"))\n",
    "b = 0\n",
    "for i in range(0, a) : \n",
    "    b = b + a\n",
    "    a -= 1\n",
    "print(b)"
   ]
  },
  {
   "cell_type": "markdown",
   "metadata": {},
   "source": [
    "# 2 Les tableaux"
   ]
  },
  {
   "cell_type": "markdown",
   "metadata": {},
   "source": [
    "### 2.1 La somme"
   ]
  },
  {
   "cell_type": "code",
   "execution_count": 69,
   "metadata": {},
   "outputs": [
    {
     "name": "stdout",
     "output_type": "stream",
     "text": [
      "15\n"
     ]
    }
   ],
   "source": [
    "a = [1, 2, 3, 4, 5]\n",
    "b = 0\n",
    "for i in range(0,len(a)) : \n",
    "    b = b + a[i]\n",
    "print(b)"
   ]
  },
  {
   "cell_type": "markdown",
   "metadata": {},
   "source": [
    "### 2.2 La somme : retour"
   ]
  },
  {
   "cell_type": "code",
   "execution_count": 71,
   "metadata": {},
   "outputs": [
    {
     "data": {
      "text/plain": [
       "[6, 6, 6, 6, 6]"
      ]
     },
     "execution_count": 71,
     "metadata": {},
     "output_type": "execute_result"
    }
   ],
   "source": [
    "a = [1, 2, 3, 4, 5]\n",
    "b = [5, 4, 3, 2, 1]\n",
    "FinalTab = []\n",
    "for i in range(0,len(a)) : \n",
    "    c = a[i] + b[i]\n",
    "    FinalTab.append(c)\n",
    "FinalTab"
   ]
  },
  {
   "cell_type": "markdown",
   "metadata": {},
   "source": [
    "### 2.3 FacProduct"
   ]
  },
  {
   "cell_type": "code",
   "execution_count": 74,
   "metadata": {},
   "outputs": [
    {
     "name": "stdout",
     "output_type": "stream",
     "text": [
      "[50, 80, 90, 80, 50]\n",
      "350\n"
     ]
    }
   ],
   "source": [
    "a = [10, 20, 30, 40, 50]\n",
    "b = [5, 4, 3, 2, 1]\n",
    "FinalTab = []\n",
    "for i in range(0,len(a)) : \n",
    "    c = a[i] * b[i]\n",
    "    FinalTab.append(c)\n",
    "print(FinalTab)\n",
    "\n",
    "z = 0\n",
    "for i in range(0,len(a)) : \n",
    "    z = z + FinalTab[i]\n",
    "print(z)"
   ]
  },
  {
   "cell_type": "markdown",
   "metadata": {},
   "source": [
    "### 2.4 Le plus grand"
   ]
  },
  {
   "cell_type": "code",
   "execution_count": null,
   "metadata": {},
   "outputs": [],
   "source": [
    "b = 0\n",
    "c = []\n",
    "for i in range(0,5) :\n",
    "    b = int(input(\"Entrer un nombre :\"))\n",
    "    "
   ]
  }
 ],
 "metadata": {
  "kernelspec": {
   "display_name": "Python 3",
   "language": "python",
   "name": "python3"
  },
  "language_info": {
   "codemirror_mode": {
    "name": "ipython",
    "version": 3
   },
   "file_extension": ".py",
   "mimetype": "text/x-python",
   "name": "python",
   "nbconvert_exporter": "python",
   "pygments_lexer": "ipython3",
   "version": "3.8.5"
  }
 },
 "nbformat": 4,
 "nbformat_minor": 4
}
